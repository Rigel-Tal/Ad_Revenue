{
 "cells": [
  {
   "cell_type": "code",
   "execution_count": 373,
   "metadata": {},
   "outputs": [],
   "source": [
    "import numpy as np\n",
    "import pandas as pd\n",
    "import matplotlib.pyplot as plt\n",
    "import seaborn as sns\n",
    "from sklearn.linear_model import LinearRegression\n",
    "\n",
    "\n",
    "from sklearn.linear_model import Ridge, Lasso\n",
    "from sklearn.linear_model import RidgeCV, LassoCV\n",
    "\n",
    "from sklearn.metrics import r2_score,mean_squared_error,mean_absolute_error\n",
    "from sklearn.model_selection import train_test_split, cross_val_score\n",
    "from sklearn.preprocessing import StandardScaler"
   ]
  },
  {
   "cell_type": "code",
   "execution_count": 374,
   "metadata": {},
   "outputs": [
    {
     "data": {
      "text/html": [
       "<div>\n",
       "<style scoped>\n",
       "    .dataframe tbody tr th:only-of-type {\n",
       "        vertical-align: middle;\n",
       "    }\n",
       "\n",
       "    .dataframe tbody tr th {\n",
       "        vertical-align: top;\n",
       "    }\n",
       "\n",
       "    .dataframe thead th {\n",
       "        text-align: right;\n",
       "    }\n",
       "</style>\n",
       "<table border=\"1\" class=\"dataframe\">\n",
       "  <thead>\n",
       "    <tr style=\"text-align: right;\">\n",
       "      <th></th>\n",
       "      <th>campaign</th>\n",
       "      <th>adgroup</th>\n",
       "      <th>ad</th>\n",
       "      <th>impressions</th>\n",
       "      <th>clicks</th>\n",
       "      <th>cost</th>\n",
       "      <th>conversions</th>\n",
       "      <th>revenue</th>\n",
       "    </tr>\n",
       "  </thead>\n",
       "  <tbody>\n",
       "    <tr>\n",
       "      <th>0</th>\n",
       "      <td>campaign 1</td>\n",
       "      <td>adgroup 1</td>\n",
       "      <td>ad 1</td>\n",
       "      <td>24</td>\n",
       "      <td>6</td>\n",
       "      <td>0.08</td>\n",
       "      <td>0</td>\n",
       "      <td>0.00</td>\n",
       "    </tr>\n",
       "    <tr>\n",
       "      <th>1</th>\n",
       "      <td>campaign 1</td>\n",
       "      <td>adgroup 2</td>\n",
       "      <td>ad 1</td>\n",
       "      <td>1</td>\n",
       "      <td>0</td>\n",
       "      <td>0.00</td>\n",
       "      <td>0</td>\n",
       "      <td>0.00</td>\n",
       "    </tr>\n",
       "    <tr>\n",
       "      <th>2</th>\n",
       "      <td>campaign 1</td>\n",
       "      <td>adgroup 3</td>\n",
       "      <td>ad 1</td>\n",
       "      <td>13</td>\n",
       "      <td>4</td>\n",
       "      <td>0.04</td>\n",
       "      <td>0</td>\n",
       "      <td>0.00</td>\n",
       "    </tr>\n",
       "    <tr>\n",
       "      <th>3</th>\n",
       "      <td>campaign 1</td>\n",
       "      <td>adgroup 4</td>\n",
       "      <td>ad 1</td>\n",
       "      <td>5</td>\n",
       "      <td>4</td>\n",
       "      <td>0.08</td>\n",
       "      <td>0</td>\n",
       "      <td>0.00</td>\n",
       "    </tr>\n",
       "    <tr>\n",
       "      <th>4</th>\n",
       "      <td>campaign 1</td>\n",
       "      <td>adgroup 1</td>\n",
       "      <td>ad 2</td>\n",
       "      <td>247</td>\n",
       "      <td>126</td>\n",
       "      <td>1.29</td>\n",
       "      <td>4</td>\n",
       "      <td>925.71</td>\n",
       "    </tr>\n",
       "  </tbody>\n",
       "</table>\n",
       "</div>"
      ],
      "text/plain": [
       "     campaign    adgroup    ad  impressions  clicks  cost  conversions  \\\n",
       "0  campaign 1  adgroup 1  ad 1           24       6  0.08            0   \n",
       "1  campaign 1  adgroup 2  ad 1            1       0  0.00            0   \n",
       "2  campaign 1  adgroup 3  ad 1           13       4  0.04            0   \n",
       "3  campaign 1  adgroup 4  ad 1            5       4  0.08            0   \n",
       "4  campaign 1  adgroup 1  ad 2          247     126  1.29            4   \n",
       "\n",
       "   revenue  \n",
       "0     0.00  \n",
       "1     0.00  \n",
       "2     0.00  \n",
       "3     0.00  \n",
       "4   925.71  "
      ]
     },
     "execution_count": 374,
     "metadata": {},
     "output_type": "execute_result"
    }
   ],
   "source": [
    "df = pd.read_csv('Train_Data.csv')\n",
    "df = df.drop(['date'], axis=1)\n",
    "df.head()"
   ]
  },
  {
   "cell_type": "code",
   "execution_count": 375,
   "metadata": {},
   "outputs": [
    {
     "data": {
      "text/plain": [
       "(4571, 8)"
      ]
     },
     "execution_count": 375,
     "metadata": {},
     "output_type": "execute_result"
    }
   ],
   "source": [
    "df.shape"
   ]
  },
  {
   "cell_type": "code",
   "execution_count": 376,
   "metadata": {},
   "outputs": [
    {
     "data": {
      "text/html": [
       "<style  type=\"text/css\" >\n",
       "#T_4952609b_e0ab_11eb_99f0_002b67f6fe31row0_col2{\n",
       "            background-color:  #feddbc;\n",
       "            color:  #000000;\n",
       "        }#T_4952609b_e0ab_11eb_99f0_002b67f6fe31row0_col5,#T_4952609b_e0ab_11eb_99f0_002b67f6fe31row4_col2{\n",
       "            background-color:  #7f2704;\n",
       "            color:  #f1f1f1;\n",
       "        }#T_4952609b_e0ab_11eb_99f0_002b67f6fe31row1_col2{\n",
       "            background-color:  #feebd7;\n",
       "            color:  #000000;\n",
       "        }#T_4952609b_e0ab_11eb_99f0_002b67f6fe31row1_col5{\n",
       "            background-color:  #fd9d53;\n",
       "            color:  #000000;\n",
       "        }#T_4952609b_e0ab_11eb_99f0_002b67f6fe31row2_col2{\n",
       "            background-color:  #fff4e9;\n",
       "            color:  #000000;\n",
       "        }#T_4952609b_e0ab_11eb_99f0_002b67f6fe31row2_col5{\n",
       "            background-color:  #fff4e8;\n",
       "            color:  #000000;\n",
       "        }#T_4952609b_e0ab_11eb_99f0_002b67f6fe31row3_col2,#T_4952609b_e0ab_11eb_99f0_002b67f6fe31row3_col5,#T_4952609b_e0ab_11eb_99f0_002b67f6fe31row4_col5{\n",
       "            background-color:  #fff5eb;\n",
       "            color:  #000000;\n",
       "        }</style><table id=\"T_4952609b_e0ab_11eb_99f0_002b67f6fe31\" ><thead>    <tr>        <th class=\"blank level0\" ></th>        <th class=\"col_heading level0 col0\" >count</th>        <th class=\"col_heading level0 col1\" >mean</th>        <th class=\"col_heading level0 col2\" >std</th>        <th class=\"col_heading level0 col3\" >min</th>        <th class=\"col_heading level0 col4\" >25%</th>        <th class=\"col_heading level0 col5\" >50%</th>        <th class=\"col_heading level0 col6\" >75%</th>        <th class=\"col_heading level0 col7\" >max</th>    </tr></thead><tbody>\n",
       "                <tr>\n",
       "                        <th id=\"T_4952609b_e0ab_11eb_99f0_002b67f6fe31level0_row0\" class=\"row_heading level0 row0\" >impressions</th>\n",
       "                        <td id=\"T_4952609b_e0ab_11eb_99f0_002b67f6fe31row0_col0\" class=\"data row0 col0\" >4571.000000</td>\n",
       "                        <td id=\"T_4952609b_e0ab_11eb_99f0_002b67f6fe31row0_col1\" class=\"data row0 col1\" >92.635747</td>\n",
       "                        <td id=\"T_4952609b_e0ab_11eb_99f0_002b67f6fe31row0_col2\" class=\"data row0 col2\" >198.349737</td>\n",
       "                        <td id=\"T_4952609b_e0ab_11eb_99f0_002b67f6fe31row0_col3\" class=\"data row0 col3\" >1.000000</td>\n",
       "                        <td id=\"T_4952609b_e0ab_11eb_99f0_002b67f6fe31row0_col4\" class=\"data row0 col4\" >6.000000</td>\n",
       "                        <td id=\"T_4952609b_e0ab_11eb_99f0_002b67f6fe31row0_col5\" class=\"data row0 col5\" >16.000000</td>\n",
       "                        <td id=\"T_4952609b_e0ab_11eb_99f0_002b67f6fe31row0_col6\" class=\"data row0 col6\" >84.000000</td>\n",
       "                        <td id=\"T_4952609b_e0ab_11eb_99f0_002b67f6fe31row0_col7\" class=\"data row0 col7\" >3239.000000</td>\n",
       "            </tr>\n",
       "            <tr>\n",
       "                        <th id=\"T_4952609b_e0ab_11eb_99f0_002b67f6fe31level0_row1\" class=\"row_heading level0 row1\" >clicks</th>\n",
       "                        <td id=\"T_4952609b_e0ab_11eb_99f0_002b67f6fe31row1_col0\" class=\"data row1 col0\" >4571.000000</td>\n",
       "                        <td id=\"T_4952609b_e0ab_11eb_99f0_002b67f6fe31row1_col1\" class=\"data row1 col1\" >43.340844</td>\n",
       "                        <td id=\"T_4952609b_e0ab_11eb_99f0_002b67f6fe31row1_col2\" class=\"data row1 col2\" >100.164913</td>\n",
       "                        <td id=\"T_4952609b_e0ab_11eb_99f0_002b67f6fe31row1_col3\" class=\"data row1 col3\" >0.000000</td>\n",
       "                        <td id=\"T_4952609b_e0ab_11eb_99f0_002b67f6fe31row1_col4\" class=\"data row1 col4\" >2.000000</td>\n",
       "                        <td id=\"T_4952609b_e0ab_11eb_99f0_002b67f6fe31row1_col5\" class=\"data row1 col5\" >7.000000</td>\n",
       "                        <td id=\"T_4952609b_e0ab_11eb_99f0_002b67f6fe31row1_col6\" class=\"data row1 col6\" >38.000000</td>\n",
       "                        <td id=\"T_4952609b_e0ab_11eb_99f0_002b67f6fe31row1_col7\" class=\"data row1 col7\" >1771.000000</td>\n",
       "            </tr>\n",
       "            <tr>\n",
       "                        <th id=\"T_4952609b_e0ab_11eb_99f0_002b67f6fe31level0_row2\" class=\"row_heading level0 row2\" >cost</th>\n",
       "                        <td id=\"T_4952609b_e0ab_11eb_99f0_002b67f6fe31row2_col0\" class=\"data row2 col0\" >4571.000000</td>\n",
       "                        <td id=\"T_4952609b_e0ab_11eb_99f0_002b67f6fe31row2_col1\" class=\"data row2 col1\" >2.800834</td>\n",
       "                        <td id=\"T_4952609b_e0ab_11eb_99f0_002b67f6fe31row2_col2\" class=\"data row2 col2\" >14.361618</td>\n",
       "                        <td id=\"T_4952609b_e0ab_11eb_99f0_002b67f6fe31row2_col3\" class=\"data row2 col3\" >0.000000</td>\n",
       "                        <td id=\"T_4952609b_e0ab_11eb_99f0_002b67f6fe31row2_col4\" class=\"data row2 col4\" >0.040000</td>\n",
       "                        <td id=\"T_4952609b_e0ab_11eb_99f0_002b67f6fe31row2_col5\" class=\"data row2 col5\" >0.210000</td>\n",
       "                        <td id=\"T_4952609b_e0ab_11eb_99f0_002b67f6fe31row2_col6\" class=\"data row2 col6\" >1.350000</td>\n",
       "                        <td id=\"T_4952609b_e0ab_11eb_99f0_002b67f6fe31row2_col7\" class=\"data row2 col7\" >531.250000</td>\n",
       "            </tr>\n",
       "            <tr>\n",
       "                        <th id=\"T_4952609b_e0ab_11eb_99f0_002b67f6fe31level0_row3\" class=\"row_heading level0 row3\" >conversions</th>\n",
       "                        <td id=\"T_4952609b_e0ab_11eb_99f0_002b67f6fe31row3_col0\" class=\"data row3 col0\" >4571.000000</td>\n",
       "                        <td id=\"T_4952609b_e0ab_11eb_99f0_002b67f6fe31row3_col1\" class=\"data row3 col1\" >1.339094</td>\n",
       "                        <td id=\"T_4952609b_e0ab_11eb_99f0_002b67f6fe31row3_col2\" class=\"data row3 col2\" >5.223922</td>\n",
       "                        <td id=\"T_4952609b_e0ab_11eb_99f0_002b67f6fe31row3_col3\" class=\"data row3 col3\" >0.000000</td>\n",
       "                        <td id=\"T_4952609b_e0ab_11eb_99f0_002b67f6fe31row3_col4\" class=\"data row3 col4\" >0.000000</td>\n",
       "                        <td id=\"T_4952609b_e0ab_11eb_99f0_002b67f6fe31row3_col5\" class=\"data row3 col5\" >0.000000</td>\n",
       "                        <td id=\"T_4952609b_e0ab_11eb_99f0_002b67f6fe31row3_col6\" class=\"data row3 col6\" >1.000000</td>\n",
       "                        <td id=\"T_4952609b_e0ab_11eb_99f0_002b67f6fe31row3_col7\" class=\"data row3 col7\" >94.000000</td>\n",
       "            </tr>\n",
       "            <tr>\n",
       "                        <th id=\"T_4952609b_e0ab_11eb_99f0_002b67f6fe31level0_row4\" class=\"row_heading level0 row4\" >revenue</th>\n",
       "                        <td id=\"T_4952609b_e0ab_11eb_99f0_002b67f6fe31row4_col0\" class=\"data row4 col0\" >4571.000000</td>\n",
       "                        <td id=\"T_4952609b_e0ab_11eb_99f0_002b67f6fe31row4_col1\" class=\"data row4 col1\" >231.865340</td>\n",
       "                        <td id=\"T_4952609b_e0ab_11eb_99f0_002b67f6fe31row4_col2\" class=\"data row4 col2\" >1091.742763</td>\n",
       "                        <td id=\"T_4952609b_e0ab_11eb_99f0_002b67f6fe31row4_col3\" class=\"data row4 col3\" >0.000000</td>\n",
       "                        <td id=\"T_4952609b_e0ab_11eb_99f0_002b67f6fe31row4_col4\" class=\"data row4 col4\" >0.000000</td>\n",
       "                        <td id=\"T_4952609b_e0ab_11eb_99f0_002b67f6fe31row4_col5\" class=\"data row4 col5\" >0.000000</td>\n",
       "                        <td id=\"T_4952609b_e0ab_11eb_99f0_002b67f6fe31row4_col6\" class=\"data row4 col6\" >92.600000</td>\n",
       "                        <td id=\"T_4952609b_e0ab_11eb_99f0_002b67f6fe31row4_col7\" class=\"data row4 col7\" >20515.410000</td>\n",
       "            </tr>\n",
       "    </tbody></table>"
      ],
      "text/plain": [
       "<pandas.io.formats.style.Styler at 0x1a8393a0640>"
      ]
     },
     "execution_count": 376,
     "metadata": {},
     "output_type": "execute_result"
    }
   ],
   "source": [
    "df_num = df.select_dtypes(exclude=\"object\")\n",
    "df_num.describe().T.style.background_gradient(subset=['std'], cmap='Oranges')\\\n",
    "                            .background_gradient(subset=['50%'], cmap='Oranges')"
   ]
  },
  {
   "cell_type": "code",
   "execution_count": 377,
   "metadata": {},
   "outputs": [
    {
     "data": {
      "text/html": [
       "<style  type=\"text/css\" >\n",
       "#T_49589cfe_e0ab_11eb_9471_002b67f6fe31row0_col0,#T_49589cfe_e0ab_11eb_9471_002b67f6fe31row1_col1,#T_49589cfe_e0ab_11eb_9471_002b67f6fe31row2_col2,#T_49589cfe_e0ab_11eb_9471_002b67f6fe31row3_col3,#T_49589cfe_e0ab_11eb_9471_002b67f6fe31row4_col4{\n",
       "            background-color:  #084081;\n",
       "            color:  #f1f1f1;\n",
       "        }#T_49589cfe_e0ab_11eb_9471_002b67f6fe31row0_col1{\n",
       "            background-color:  #084e90;\n",
       "            color:  #f1f1f1;\n",
       "        }#T_49589cfe_e0ab_11eb_9471_002b67f6fe31row0_col2{\n",
       "            background-color:  #ceecc7;\n",
       "            color:  #000000;\n",
       "        }#T_49589cfe_e0ab_11eb_9471_002b67f6fe31row0_col3{\n",
       "            background-color:  #8ad2bf;\n",
       "            color:  #000000;\n",
       "        }#T_49589cfe_e0ab_11eb_9471_002b67f6fe31row0_col4{\n",
       "            background-color:  #97d6bb;\n",
       "            color:  #000000;\n",
       "        }#T_49589cfe_e0ab_11eb_9471_002b67f6fe31row1_col0{\n",
       "            background-color:  #084d8e;\n",
       "            color:  #f1f1f1;\n",
       "        }#T_49589cfe_e0ab_11eb_9471_002b67f6fe31row1_col2{\n",
       "            background-color:  #b5e2bb;\n",
       "            color:  #000000;\n",
       "        }#T_49589cfe_e0ab_11eb_9471_002b67f6fe31row1_col3{\n",
       "            background-color:  #64bfcc;\n",
       "            color:  #000000;\n",
       "        }#T_49589cfe_e0ab_11eb_9471_002b67f6fe31row1_col4{\n",
       "            background-color:  #75c8c6;\n",
       "            color:  #000000;\n",
       "        }#T_49589cfe_e0ab_11eb_9471_002b67f6fe31row2_col0,#T_49589cfe_e0ab_11eb_9471_002b67f6fe31row2_col1,#T_49589cfe_e0ab_11eb_9471_002b67f6fe31row2_col3,#T_49589cfe_e0ab_11eb_9471_002b67f6fe31row2_col4,#T_49589cfe_e0ab_11eb_9471_002b67f6fe31row4_col2{\n",
       "            background-color:  #f7fcf0;\n",
       "            color:  #000000;\n",
       "        }#T_49589cfe_e0ab_11eb_9471_002b67f6fe31row3_col0{\n",
       "            background-color:  #91d4bd;\n",
       "            color:  #000000;\n",
       "        }#T_49589cfe_e0ab_11eb_9471_002b67f6fe31row3_col1{\n",
       "            background-color:  #7fcdc3;\n",
       "            color:  #000000;\n",
       "        }#T_49589cfe_e0ab_11eb_9471_002b67f6fe31row3_col2{\n",
       "            background-color:  #d1edcb;\n",
       "            color:  #000000;\n",
       "        }#T_49589cfe_e0ab_11eb_9471_002b67f6fe31row3_col4{\n",
       "            background-color:  #085a9d;\n",
       "            color:  #f1f1f1;\n",
       "        }#T_49589cfe_e0ab_11eb_9471_002b67f6fe31row4_col0{\n",
       "            background-color:  #cdebc6;\n",
       "            color:  #000000;\n",
       "        }#T_49589cfe_e0ab_11eb_9471_002b67f6fe31row4_col1{\n",
       "            background-color:  #c4e8c1;\n",
       "            color:  #000000;\n",
       "        }#T_49589cfe_e0ab_11eb_9471_002b67f6fe31row4_col3{\n",
       "            background-color:  #0863a7;\n",
       "            color:  #f1f1f1;\n",
       "        }</style><table id=\"T_49589cfe_e0ab_11eb_9471_002b67f6fe31\" ><thead>    <tr>        <th class=\"blank level0\" ></th>        <th class=\"col_heading level0 col0\" >impressions</th>        <th class=\"col_heading level0 col1\" >clicks</th>        <th class=\"col_heading level0 col2\" >cost</th>        <th class=\"col_heading level0 col3\" >conversions</th>        <th class=\"col_heading level0 col4\" >revenue</th>    </tr></thead><tbody>\n",
       "                <tr>\n",
       "                        <th id=\"T_49589cfe_e0ab_11eb_9471_002b67f6fe31level0_row0\" class=\"row_heading level0 row0\" >impressions</th>\n",
       "                        <td id=\"T_49589cfe_e0ab_11eb_9471_002b67f6fe31row0_col0\" class=\"data row0 col0\" >1.000000</td>\n",
       "                        <td id=\"T_49589cfe_e0ab_11eb_9471_002b67f6fe31row0_col1\" class=\"data row0 col1\" >0.987514</td>\n",
       "                        <td id=\"T_49589cfe_e0ab_11eb_9471_002b67f6fe31row0_col2\" class=\"data row0 col2\" >0.682811</td>\n",
       "                        <td id=\"T_49589cfe_e0ab_11eb_9471_002b67f6fe31row0_col3\" class=\"data row0 col3\" >0.822149</td>\n",
       "                        <td id=\"T_49589cfe_e0ab_11eb_9471_002b67f6fe31row0_col4\" class=\"data row0 col4\" >0.759671</td>\n",
       "            </tr>\n",
       "            <tr>\n",
       "                        <th id=\"T_49589cfe_e0ab_11eb_9471_002b67f6fe31level0_row1\" class=\"row_heading level0 row1\" >clicks</th>\n",
       "                        <td id=\"T_49589cfe_e0ab_11eb_9471_002b67f6fe31row1_col0\" class=\"data row1 col0\" >0.987514</td>\n",
       "                        <td id=\"T_49589cfe_e0ab_11eb_9471_002b67f6fe31row1_col1\" class=\"data row1 col1\" >1.000000</td>\n",
       "                        <td id=\"T_49589cfe_e0ab_11eb_9471_002b67f6fe31row1_col2\" class=\"data row1 col2\" >0.719925</td>\n",
       "                        <td id=\"T_49589cfe_e0ab_11eb_9471_002b67f6fe31row1_col3\" class=\"data row1 col3\" >0.856941</td>\n",
       "                        <td id=\"T_49589cfe_e0ab_11eb_9471_002b67f6fe31row1_col4\" class=\"data row1 col4\" >0.798282</td>\n",
       "            </tr>\n",
       "            <tr>\n",
       "                        <th id=\"T_49589cfe_e0ab_11eb_9471_002b67f6fe31level0_row2\" class=\"row_heading level0 row2\" >cost</th>\n",
       "                        <td id=\"T_49589cfe_e0ab_11eb_9471_002b67f6fe31row2_col0\" class=\"data row2 col0\" >0.682811</td>\n",
       "                        <td id=\"T_49589cfe_e0ab_11eb_9471_002b67f6fe31row2_col1\" class=\"data row2 col1\" >0.719925</td>\n",
       "                        <td id=\"T_49589cfe_e0ab_11eb_9471_002b67f6fe31row2_col2\" class=\"data row2 col2\" >1.000000</td>\n",
       "                        <td id=\"T_49589cfe_e0ab_11eb_9471_002b67f6fe31row2_col3\" class=\"data row2 col3\" >0.672202</td>\n",
       "                        <td id=\"T_49589cfe_e0ab_11eb_9471_002b67f6fe31row2_col4\" class=\"data row2 col4\" >0.581662</td>\n",
       "            </tr>\n",
       "            <tr>\n",
       "                        <th id=\"T_49589cfe_e0ab_11eb_9471_002b67f6fe31level0_row3\" class=\"row_heading level0 row3\" >conversions</th>\n",
       "                        <td id=\"T_49589cfe_e0ab_11eb_9471_002b67f6fe31row3_col0\" class=\"data row3 col0\" >0.822149</td>\n",
       "                        <td id=\"T_49589cfe_e0ab_11eb_9471_002b67f6fe31row3_col1\" class=\"data row3 col1\" >0.856941</td>\n",
       "                        <td id=\"T_49589cfe_e0ab_11eb_9471_002b67f6fe31row3_col2\" class=\"data row3 col2\" >0.672202</td>\n",
       "                        <td id=\"T_49589cfe_e0ab_11eb_9471_002b67f6fe31row3_col3\" class=\"data row3 col3\" >1.000000</td>\n",
       "                        <td id=\"T_49589cfe_e0ab_11eb_9471_002b67f6fe31row3_col4\" class=\"data row3 col4\" >0.964096</td>\n",
       "            </tr>\n",
       "            <tr>\n",
       "                        <th id=\"T_49589cfe_e0ab_11eb_9471_002b67f6fe31level0_row4\" class=\"row_heading level0 row4\" >revenue</th>\n",
       "                        <td id=\"T_49589cfe_e0ab_11eb_9471_002b67f6fe31row4_col0\" class=\"data row4 col0\" >0.759671</td>\n",
       "                        <td id=\"T_49589cfe_e0ab_11eb_9471_002b67f6fe31row4_col1\" class=\"data row4 col1\" >0.798282</td>\n",
       "                        <td id=\"T_49589cfe_e0ab_11eb_9471_002b67f6fe31row4_col2\" class=\"data row4 col2\" >0.581662</td>\n",
       "                        <td id=\"T_49589cfe_e0ab_11eb_9471_002b67f6fe31row4_col3\" class=\"data row4 col3\" >0.964096</td>\n",
       "                        <td id=\"T_49589cfe_e0ab_11eb_9471_002b67f6fe31row4_col4\" class=\"data row4 col4\" >1.000000</td>\n",
       "            </tr>\n",
       "    </tbody></table>"
      ],
      "text/plain": [
       "<pandas.io.formats.style.Styler at 0x1a83968cbe0>"
      ]
     },
     "execution_count": 377,
     "metadata": {},
     "output_type": "execute_result"
    }
   ],
   "source": [
    "df.corr().style.background_gradient(cmap='GnBu')"
   ]
  },
  {
   "cell_type": "code",
   "execution_count": 378,
   "metadata": {},
   "outputs": [],
   "source": [
    "df_cat = df.select_dtypes(include=\"object\").columns.values\n",
    "\n",
    "df_encoded = pd.get_dummies(df,columns = df_cat)"
   ]
  },
  {
   "cell_type": "code",
   "execution_count": 379,
   "metadata": {},
   "outputs": [
    {
     "name": "stdout",
     "output_type": "stream",
     "text": [
      "Shape before Encoding: (4571, 8)\n",
      "\n",
      "Shape after Encoding: (4571, 80)\n"
     ]
    }
   ],
   "source": [
    "print(\"Shape before Encoding:\",df.shape)\n",
    "print(\"\\nShape after Encoding:\",df_encoded.shape)"
   ]
  },
  {
   "cell_type": "code",
   "execution_count": 380,
   "metadata": {},
   "outputs": [
    {
     "data": {
      "text/plain": [
       "0"
      ]
     },
     "execution_count": 380,
     "metadata": {},
     "output_type": "execute_result"
    }
   ],
   "source": [
    "df.isnull().sum().max()"
   ]
  },
  {
   "cell_type": "code",
   "execution_count": 381,
   "metadata": {},
   "outputs": [],
   "source": [
    "X = df_encoded.drop(['revenue'], axis = 1)\n",
    "y = df_encoded['revenue']"
   ]
  },
  {
   "cell_type": "code",
   "execution_count": 382,
   "metadata": {},
   "outputs": [],
   "source": [
    "X_train, X_test, y_train, y_test = train_test_split(X,y,test_size=0.25,random_state=2021)"
   ]
  },
  {
   "cell_type": "code",
   "execution_count": 383,
   "metadata": {},
   "outputs": [
    {
     "name": "stdout",
     "output_type": "stream",
     "text": [
      "X_train: (3428, 79)\n",
      "X_test: (1143, 79)\n",
      "y_train: (3428,)\n",
      "y_test: (1143,)\n"
     ]
    }
   ],
   "source": [
    "print(\"X_train:\", X_train.shape) # X_train\n",
    "print(\"X_test:\",X_test.shape) # X_test\n",
    "print(\"y_train:\",y_train.shape) # y_train\n",
    "print(\"y_test:\",y_test.shape) # y_test"
   ]
  },
  {
   "cell_type": "code",
   "execution_count": 384,
   "metadata": {},
   "outputs": [
    {
     "data": {
      "text/plain": [
       "LinearRegression()"
      ]
     },
     "execution_count": 384,
     "metadata": {},
     "output_type": "execute_result"
    }
   ],
   "source": [
    "lr = LinearRegression()\n",
    "\n",
    "lr.fit(X_train,y_train)"
   ]
  },
  {
   "cell_type": "code",
   "execution_count": 385,
   "metadata": {},
   "outputs": [
    {
     "name": "stdout",
     "output_type": "stream",
     "text": [
      "Linear Regression Training R2 score is 0.9532969209605401\n",
      "Linear Regression Testing R2 score is 0.910225518216041\n",
      "--------------------------------------------------\n",
      "Linear Regression Training mean_square_error is 254.4228308849826\n",
      "Linear Regression Testing mean_square_error is 233.54455361407364\n",
      "--------------------------------------------------\n",
      "Linear Regression Training mean_absolute_error is 105.11235621057286\n",
      "Linear Regression Testing mean_absolute_error is 110.91398681854223\n"
     ]
    }
   ],
   "source": [
    "print(\"Linear Regression Training R2 score is\",r2_score(y_train,lr.predict(X_train)))\n",
    "print(\"Linear Regression Testing R2 score is\",r2_score(y_test,lr.predict(X_test)))\n",
    "print(\"-\"*50)\n",
    "print(\"Linear Regression Training mean_square_error is\",mean_squared_error(y_train,lr.predict(X_train), squared=False))\n",
    "print(\"Linear Regression Testing mean_square_error is\",mean_squared_error(y_test,lr.predict(X_test), squared=False))\n",
    "print(\"-\"*50)\n",
    "print(\"Linear Regression Training mean_absolute_error is\",mean_absolute_error(y_train,lr.predict(X_train)))\n",
    "print(\"Linear Regression Testing mean_absolute_error is\",mean_absolute_error(y_test,lr.predict(X_test)))"
   ]
  },
  {
   "cell_type": "code",
   "execution_count": 386,
   "metadata": {},
   "outputs": [
    {
     "data": {
      "text/plain": [
       "Lasso()"
      ]
     },
     "execution_count": 386,
     "metadata": {},
     "output_type": "execute_result"
    }
   ],
   "source": [
    "\n",
    "lasso_model = Lasso()\n",
    "\n",
    "lasso_model.fit(X_train,y_train)"
   ]
  },
  {
   "cell_type": "code",
   "execution_count": 387,
   "metadata": {},
   "outputs": [
    {
     "name": "stdout",
     "output_type": "stream",
     "text": [
      "Lasso Model Training R2 score is 0.9493757002849668\n",
      "Lasso Model Testing R2 score is 0.9215370709253627\n",
      "--------------------------------------------------\n",
      "Lasso Model Training mean_square_error is 264.8883377864779\n",
      "Lasso Model Testing mean_square_error is 218.33610005669777\n",
      "--------------------------------------------------\n",
      "Lasso Model Training mean_absolute_error is 98.28550547443655\n",
      "Lasso Model Testing mean_absolute_error is 98.7083997100839\n"
     ]
    }
   ],
   "source": [
    "## R2 score\n",
    "print(\"Lasso Model Training R2 score is\",r2_score(y_train,lasso_model.predict(X_train)))\n",
    "print(\"Lasso Model Testing R2 score is\",r2_score(y_test,lasso_model.predict(X_test)))\n",
    "print(\"-\"*50)\n",
    "\n",
    "## Mean Square Error (MSE)\n",
    "print(\"Lasso Model Training mean_square_error is\",mean_squared_error(y_train,lasso_model.predict(X_train), squared=False))\n",
    "print(\"Lasso Model Testing mean_square_error is\",mean_squared_error(y_test,lasso_model.predict(X_test), squared=False))\n",
    "print(\"-\"*50)\n",
    "\n",
    "## Mean Absolute Error (MAE)\n",
    "print(\"Lasso Model Training mean_absolute_error is\",mean_absolute_error(y_train,lasso_model.predict(X_train)))\n",
    "print(\"Lasso Model Testing mean_absolute_error is\",mean_absolute_error(y_test,lasso_model.predict(X_test)))"
   ]
  },
  {
   "cell_type": "code",
   "execution_count": 388,
   "metadata": {},
   "outputs": [
    {
     "data": {
      "text/plain": [
       "Ridge()"
      ]
     },
     "execution_count": 388,
     "metadata": {},
     "output_type": "execute_result"
    }
   ],
   "source": [
    "ridge = Ridge()\n",
    "\n",
    "ridge.fit(X_train, y_train)"
   ]
  },
  {
   "cell_type": "code",
   "execution_count": 389,
   "metadata": {},
   "outputs": [
    {
     "name": "stdout",
     "output_type": "stream",
     "text": [
      "Ridge Model Training R2 score is 0.9530989936541892\n",
      "Ridge Model Testing R2 score is 0.9172933098560875\n",
      "--------------------------------------------------\n",
      "Ridge Model Training mean_square_error is 254.96138193980337\n",
      "Ridge Model Testing mean_square_error is 224.16283516732543\n",
      "--------------------------------------------------\n",
      "Ridge Model Training mean_absolute_error is 104.79119636687767\n",
      "Ridge Model Testing mean_absolute_error is 108.81762861656732\n"
     ]
    }
   ],
   "source": [
    "## R2 score\n",
    "print(\"Ridge Model Training R2 score is\",r2_score(y_train,ridge.predict(X_train)))\n",
    "print(\"Ridge Model Testing R2 score is\",r2_score(y_test,ridge.predict(X_test)))\n",
    "print(\"-\"*50)\n",
    "\n",
    "## Mean Square Error (MSE)\n",
    "print(\"Ridge Model Training mean_square_error is\",mean_squared_error(y_train,ridge.predict(X_train), squared=False))\n",
    "print(\"Ridge Model Testing mean_square_error is\",mean_squared_error(y_test,ridge.predict(X_test), squared=False))\n",
    "print(\"-\"*50)\n",
    "\n",
    "## Mean Absolute Error (MAE)\n",
    "print(\"Ridge Model Training mean_absolute_error is\",mean_absolute_error(y_train,ridge.predict(X_train)))\n",
    "print(\"Ridge Model Testing mean_absolute_error is\",mean_absolute_error(y_test,ridge.predict(X_test)))\n"
   ]
  },
  {
   "cell_type": "code",
   "execution_count": 390,
   "metadata": {},
   "outputs": [
    {
     "name": "stdout",
     "output_type": "stream",
     "text": [
      "0.910225518216041\n",
      "0.9215370709253627\n",
      "0.9172933098560875\n"
     ]
    }
   ],
   "source": [
    "print(lr.score(X_test,y_test))\n",
    "print(lasso_model.score(X_test,y_test))\n",
    "print(ridge.score(X_test,y_test))"
   ]
  },
  {
   "cell_type": "code",
   "execution_count": null,
   "metadata": {},
   "outputs": [],
   "source": []
  },
  {
   "cell_type": "code",
   "execution_count": 391,
   "metadata": {},
   "outputs": [],
   "source": [
    "scaler = StandardScaler()\n",
    "\n",
    "X_train_scaled = scaler.fit_transform(X_train)\n",
    "\n",
    "X_test_scaled = scaler.transform(X_test)"
   ]
  },
  {
   "cell_type": "code",
   "execution_count": 392,
   "metadata": {},
   "outputs": [
    {
     "data": {
      "text/plain": [
       "Lasso()"
      ]
     },
     "execution_count": 392,
     "metadata": {},
     "output_type": "execute_result"
    }
   ],
   "source": [
    "lasso_model_scaled = Lasso()\n",
    "\n",
    "lasso_model_scaled.fit(X_train_scaled , y_train)"
   ]
  },
  {
   "cell_type": "code",
   "execution_count": 393,
   "metadata": {},
   "outputs": [
    {
     "name": "stdout",
     "output_type": "stream",
     "text": [
      "Lasso Model Training R2 score on scaled data is 0.9530492310521754\n",
      "Lasso Model Testing R2 score on scaled data is 0.9160231940662116\n",
      "--------------------------------------------------\n",
      "Lasso Model Training mean_square_error on scaled data is 255.09660481813177\n",
      "Lasso Model Testing mean_square_error on scaled data is 225.8774969150057\n",
      "--------------------------------------------------\n",
      "Lasso Model Training mean_absolute_error on scaled data is 104.60912868692134\n",
      "Lasso Model Testing mean_absolute_error on scaled data is 109.21621368736446\n"
     ]
    }
   ],
   "source": [
    "## R2 score\n",
    "print(\"Lasso Model Training R2 score on scaled data is\",r2_score(y_train,lasso_model_scaled.predict(X_train_scaled)))\n",
    "print(\"Lasso Model Testing R2 score on scaled data is\",r2_score(y_test,lasso_model_scaled.predict(X_test_scaled)))\n",
    "print(\"-\"*50)\n",
    "\n",
    "## Mean Square Error (MSE)\n",
    "print(\"Lasso Model Training mean_square_error on scaled data is\",mean_squared_error(y_train,lasso_model_scaled.predict(X_train_scaled), squared=False))\n",
    "print(\"Lasso Model Testing mean_square_error on scaled data is\",mean_squared_error(y_test,lasso_model_scaled.predict(X_test_scaled), squared=False))\n",
    "print(\"-\"*50)\n",
    "\n",
    "## Mean Absolute Error (MAE)\n",
    "print(\"Lasso Model Training mean_absolute_error on scaled data is\",mean_absolute_error(y_train,lasso_model_scaled.predict(X_train_scaled)))\n",
    "print(\"Lasso Model Testing mean_absolute_error on scaled data is\",mean_absolute_error(y_test,lasso_model_scaled.predict(X_test_scaled)))"
   ]
  },
  {
   "cell_type": "code",
   "execution_count": 394,
   "metadata": {},
   "outputs": [
    {
     "data": {
      "text/plain": [
       "Ridge()"
      ]
     },
     "execution_count": 394,
     "metadata": {},
     "output_type": "execute_result"
    }
   ],
   "source": [
    "\n",
    "ridge_scaled = Ridge()\n",
    "\n",
    "ridge_scaled.fit(X_train_scaled, y_train)"
   ]
  },
  {
   "cell_type": "code",
   "execution_count": 395,
   "metadata": {},
   "outputs": [
    {
     "name": "stdout",
     "output_type": "stream",
     "text": [
      "Ridge Model Training R2 score on scaled data is 0.9532951241997956\n",
      "Ridge Model Testing R2 score on scaled data is 0.9108747765366108\n",
      "--------------------------------------------------\n",
      "Ridge Model Training mean_square_error on scaled data is 254.42772491518141\n",
      "Ridge Model Testing mean_square_error on scaled data is 232.69851201187416\n",
      "--------------------------------------------------\n",
      "Ridge Model Training mean_absolute_error on scaled data is 105.24409445400192\n",
      "Ridge Model Testing mean_absolute_error on scaled data is 110.94290932983358\n"
     ]
    }
   ],
   "source": [
    "## R2 score\n",
    "print(\"Ridge Model Training R2 score on scaled data is\",r2_score(y_train,ridge_scaled.predict(X_train_scaled)))\n",
    "print(\"Ridge Model Testing R2 score on scaled data is\",r2_score(y_test,ridge_scaled.predict(X_test_scaled)))\n",
    "print(\"-\"*50)\n",
    "\n",
    "## Mean Square Error (MSE)\n",
    "print(\"Ridge Model Training mean_square_error on scaled data is\",mean_squared_error(y_train,ridge_scaled.predict(X_train_scaled), squared=False))\n",
    "print(\"Ridge Model Testing mean_square_error on scaled data is\",mean_squared_error(y_test,ridge_scaled.predict(X_test_scaled), squared=False))\n",
    "print(\"-\"*50)\n",
    "\n",
    "## Mean Absolute Error (MAE)\n",
    "print(\"Ridge Model Training mean_absolute_error on scaled data is\",mean_absolute_error(y_train,ridge_scaled.predict(X_train_scaled)))\n",
    "print(\"Ridge Model Testing mean_absolute_error on scaled data is\",mean_absolute_error(y_test,ridge_scaled.predict(X_test_scaled)))"
   ]
  },
  {
   "cell_type": "code",
   "execution_count": 396,
   "metadata": {},
   "outputs": [
    {
     "data": {
      "text/plain": [
       "RidgeCV(alphas=array([ 0.1,  1. , 10. ]))"
      ]
     },
     "execution_count": 396,
     "metadata": {},
     "output_type": "execute_result"
    }
   ],
   "source": [
    "ridge_cv = RidgeCV()\n",
    "\n",
    "ridge_cv.fit(X_train_scaled, y_train)"
   ]
  },
  {
   "cell_type": "code",
   "execution_count": 397,
   "metadata": {},
   "outputs": [
    {
     "name": "stdout",
     "output_type": "stream",
     "text": [
      "Ridge Model CV Training R2 score on scaled data is 0.9531800132382238\n",
      "Ridge Model CV Testing R2 score on scaled data is 0.915206879208158\n",
      "--------------------------------------------------\n",
      "Ridge Model CV Training mean_square_error on scaled data is 254.74106903601566\n",
      "Ridge Model CV Testing mean_square_error on scaled data is 226.9726875789495\n",
      "--------------------------------------------------\n",
      "Ridge Model CV Training mean_absolute_error on scaled data is 106.24434617881279\n",
      "Ridge Model CV Testing mean_absolute_error on scaled data is 111.05913237523312\n"
     ]
    }
   ],
   "source": [
    "## R2 score\n",
    "print(\"Ridge Model CV Training R2 score on scaled data is\",r2_score(y_train,ridge_cv.predict(X_train_scaled)))\n",
    "print(\"Ridge Model CV Testing R2 score on scaled data is\",r2_score(y_test,ridge_cv.predict(X_test_scaled)))\n",
    "print(\"-\"*50)\n",
    "\n",
    "## Mean Square Error (MSE)\n",
    "print(\"Ridge Model CV Training mean_square_error on scaled data is\",mean_squared_error(y_train,ridge_cv.predict(X_train_scaled), squared=False))\n",
    "print(\"Ridge Model CV Testing mean_square_error on scaled data is\",mean_squared_error(y_test,ridge_cv.predict(X_test_scaled), squared=False))\n",
    "print(\"-\"*50)\n",
    "\n",
    "## Mean Absolute Error (MAE)\n",
    "print(\"Ridge Model CV Training mean_absolute_error on scaled data is\",mean_absolute_error(y_train,ridge_cv.predict(X_train_scaled)))\n",
    "print(\"Ridge Model CV Testing mean_absolute_error on scaled data is\",mean_absolute_error(y_test,ridge_cv.predict(X_test_scaled)))"
   ]
  },
  {
   "cell_type": "code",
   "execution_count": 398,
   "metadata": {},
   "outputs": [
    {
     "name": "stdout",
     "output_type": "stream",
     "text": [
      "0.910225518216041\n",
      "0.9215370709253627\n",
      "0.9172933098560875\n"
     ]
    }
   ],
   "source": [
    "print(lr.score(X_test,y_test))\n",
    "print(lasso_model.score(X_test,y_test))\n",
    "print(ridge.score(X_test,y_test))\n"
   ]
  },
  {
   "cell_type": "code",
   "execution_count": 399,
   "metadata": {},
   "outputs": [
    {
     "name": "stdout",
     "output_type": "stream",
     "text": [
      "-602.9711192936882\n",
      "-1571.5942435043046\n",
      "-815.4785003173041\n"
     ]
    }
   ],
   "source": [
    "print(lasso_model_scaled.score(X_test,y_test))\n",
    "print(ridge_scaled.score(X_test,y_test))\n",
    "print(ridge_cv.score(X_test,y_test))"
   ]
  },
  {
   "cell_type": "code",
   "execution_count": 400,
   "metadata": {},
   "outputs": [
    {
     "data": {
      "text/html": [
       "<div>\n",
       "<style scoped>\n",
       "    .dataframe tbody tr th:only-of-type {\n",
       "        vertical-align: middle;\n",
       "    }\n",
       "\n",
       "    .dataframe tbody tr th {\n",
       "        vertical-align: top;\n",
       "    }\n",
       "\n",
       "    .dataframe thead th {\n",
       "        text-align: right;\n",
       "    }\n",
       "</style>\n",
       "<table border=\"1\" class=\"dataframe\">\n",
       "  <thead>\n",
       "    <tr style=\"text-align: right;\">\n",
       "      <th></th>\n",
       "    </tr>\n",
       "    <tr>\n",
       "      <th>revenue</th>\n",
       "    </tr>\n",
       "  </thead>\n",
       "  <tbody>\n",
       "    <tr>\n",
       "      <th>0.0</th>\n",
       "    </tr>\n",
       "    <tr>\n",
       "      <th>0.0</th>\n",
       "    </tr>\n",
       "    <tr>\n",
       "      <th>0.0</th>\n",
       "    </tr>\n",
       "    <tr>\n",
       "      <th>0.0</th>\n",
       "    </tr>\n",
       "    <tr>\n",
       "      <th>0.0</th>\n",
       "    </tr>\n",
       "    <tr>\n",
       "      <th>...</th>\n",
       "    </tr>\n",
       "    <tr>\n",
       "      <th>0.0</th>\n",
       "    </tr>\n",
       "    <tr>\n",
       "      <th>0.0</th>\n",
       "    </tr>\n",
       "    <tr>\n",
       "      <th>0.0</th>\n",
       "    </tr>\n",
       "    <tr>\n",
       "      <th>0.0</th>\n",
       "    </tr>\n",
       "    <tr>\n",
       "      <th>0.0</th>\n",
       "    </tr>\n",
       "  </tbody>\n",
       "</table>\n",
       "<p>1143 rows × 0 columns</p>\n",
       "</div>"
      ],
      "text/plain": [
       "Empty DataFrame\n",
       "Columns: []\n",
       "Index: [0.0, 0.0, 0.0, 0.0, 0.0, 0.0, 0.0, 0.0, 0.0, 0.0, 0.0, 30.477271672503406, 0.0, 0.0, 0.0, 0.0, 0.0, 0.0, 237.2705611757365, 0.0, 0.0, 0.0, 0.0, 26.552703784537556, 0.0, 0.0, 29.762971832877867, 0.0, 0.0, 37.53909322472387, 0.0, 0.0, 0.0, 0.0, 0.0, 228.36571076469568, 27.938970623688505, 0.0, 13.971312022735333, 0.0, 35.19537405681311, 0.0, 270.36561669410554, 0.0, 0.0, 0.0, 0.0, 0.0, 0.0, 0.0, 0.0, 0.0, 0.0, 0.0, 0.0, 0.0, 0.0, 0.0, 0.0, 321.51195312447896, 0.0, 0.0, 0.0, 0.0, 0.0, 0.0, 0.0, 0.0, 0.0, 0.0, 0.0, 0.0, 0.0, 137.3040773536555, 27.188660609789878, 0.0, 0.0, 0.0, 0.0, 0.0, 0.0, 0.0, 0.0, 259.5823829732731, 0.0, 26.87351075223026, 0.0, 29.018734179829238, 0.0, 0.0, 0.0, 0.0, 0.0, 0.0, 0.0, 0.0, 0.0, 0.0, 0.0, 0.0, ...]\n",
       "\n",
       "[1143 rows x 0 columns]"
      ]
     },
     "execution_count": 400,
     "metadata": {},
     "output_type": "execute_result"
    }
   ],
   "source": [
    "a=ridge_cv.predict(X_test)\n",
    "j=0;\n",
    "for i in a:\n",
    "    if(i<0):\n",
    "        a[j]=0\n",
    "    j=j+1\n",
    "        \n",
    "dict = {'revenue': a}\n",
    "ans = pd.DataFrame(dict)\n",
    "ans.set_index('revenue', inplace = True)\n",
    "ans"
   ]
  },
  {
   "cell_type": "code",
   "execution_count": 401,
   "metadata": {},
   "outputs": [],
   "source": [
    "ans.to_csv('sss.csv')"
   ]
  },
  {
   "cell_type": "code",
   "execution_count": 402,
   "metadata": {},
   "outputs": [
    {
     "data": {
      "text/plain": [
       "816.3599547017429"
      ]
     },
     "execution_count": 402,
     "metadata": {},
     "output_type": "execute_result"
    }
   ],
   "source": [
    "mean_squared_error(y_test, a , squared=False)"
   ]
  },
  {
   "cell_type": "code",
   "execution_count": 403,
   "metadata": {},
   "outputs": [],
   "source": [
    "import scipy.stats as stat\n",
    "import pylab\n",
    "\n",
    "def plot_data(df, feature):\n",
    "    plt.figure(figsize = (10,6))\n",
    "    plt.subplot(1,2,1)\n",
    "    df[feature].hist()\n",
    "    plt.subplot(1,2,2)\n",
    "    stat.probplot(df[feature],dist='norm',plot=pylab)\n",
    "    plt.show()"
   ]
  },
  {
   "cell_type": "code",
   "execution_count": 404,
   "metadata": {},
   "outputs": [
    {
     "data": {
      "text/html": [
       "<div>\n",
       "<style scoped>\n",
       "    .dataframe tbody tr th:only-of-type {\n",
       "        vertical-align: middle;\n",
       "    }\n",
       "\n",
       "    .dataframe tbody tr th {\n",
       "        vertical-align: top;\n",
       "    }\n",
       "\n",
       "    .dataframe thead th {\n",
       "        text-align: right;\n",
       "    }\n",
       "</style>\n",
       "<table border=\"1\" class=\"dataframe\">\n",
       "  <thead>\n",
       "    <tr style=\"text-align: right;\">\n",
       "      <th></th>\n",
       "      <th>impressions</th>\n",
       "      <th>clicks</th>\n",
       "      <th>cost</th>\n",
       "      <th>conversions</th>\n",
       "      <th>revenue</th>\n",
       "    </tr>\n",
       "  </thead>\n",
       "  <tbody>\n",
       "    <tr>\n",
       "      <th>0</th>\n",
       "      <td>24</td>\n",
       "      <td>6</td>\n",
       "      <td>0.08</td>\n",
       "      <td>0</td>\n",
       "      <td>0.00</td>\n",
       "    </tr>\n",
       "    <tr>\n",
       "      <th>1</th>\n",
       "      <td>1</td>\n",
       "      <td>0</td>\n",
       "      <td>0.00</td>\n",
       "      <td>0</td>\n",
       "      <td>0.00</td>\n",
       "    </tr>\n",
       "    <tr>\n",
       "      <th>2</th>\n",
       "      <td>13</td>\n",
       "      <td>4</td>\n",
       "      <td>0.04</td>\n",
       "      <td>0</td>\n",
       "      <td>0.00</td>\n",
       "    </tr>\n",
       "    <tr>\n",
       "      <th>3</th>\n",
       "      <td>5</td>\n",
       "      <td>4</td>\n",
       "      <td>0.08</td>\n",
       "      <td>0</td>\n",
       "      <td>0.00</td>\n",
       "    </tr>\n",
       "    <tr>\n",
       "      <th>4</th>\n",
       "      <td>247</td>\n",
       "      <td>126</td>\n",
       "      <td>1.29</td>\n",
       "      <td>4</td>\n",
       "      <td>925.71</td>\n",
       "    </tr>\n",
       "    <tr>\n",
       "      <th>...</th>\n",
       "      <td>...</td>\n",
       "      <td>...</td>\n",
       "      <td>...</td>\n",
       "      <td>...</td>\n",
       "      <td>...</td>\n",
       "    </tr>\n",
       "    <tr>\n",
       "      <th>4566</th>\n",
       "      <td>19</td>\n",
       "      <td>6</td>\n",
       "      <td>0.07</td>\n",
       "      <td>0</td>\n",
       "      <td>0.00</td>\n",
       "    </tr>\n",
       "    <tr>\n",
       "      <th>4567</th>\n",
       "      <td>1</td>\n",
       "      <td>0</td>\n",
       "      <td>0.00</td>\n",
       "      <td>0</td>\n",
       "      <td>0.00</td>\n",
       "    </tr>\n",
       "    <tr>\n",
       "      <th>4568</th>\n",
       "      <td>16</td>\n",
       "      <td>8</td>\n",
       "      <td>0.12</td>\n",
       "      <td>1</td>\n",
       "      <td>93.20</td>\n",
       "    </tr>\n",
       "    <tr>\n",
       "      <th>4569</th>\n",
       "      <td>37</td>\n",
       "      <td>13</td>\n",
       "      <td>0.23</td>\n",
       "      <td>0</td>\n",
       "      <td>0.00</td>\n",
       "    </tr>\n",
       "    <tr>\n",
       "      <th>4570</th>\n",
       "      <td>19</td>\n",
       "      <td>10</td>\n",
       "      <td>0.14</td>\n",
       "      <td>0</td>\n",
       "      <td>0.00</td>\n",
       "    </tr>\n",
       "  </tbody>\n",
       "</table>\n",
       "<p>4571 rows × 5 columns</p>\n",
       "</div>"
      ],
      "text/plain": [
       "      impressions  clicks  cost  conversions  revenue\n",
       "0              24       6  0.08            0     0.00\n",
       "1               1       0  0.00            0     0.00\n",
       "2              13       4  0.04            0     0.00\n",
       "3               5       4  0.08            0     0.00\n",
       "4             247     126  1.29            4   925.71\n",
       "...           ...     ...   ...          ...      ...\n",
       "4566           19       6  0.07            0     0.00\n",
       "4567            1       0  0.00            0     0.00\n",
       "4568           16       8  0.12            1    93.20\n",
       "4569           37      13  0.23            0     0.00\n",
       "4570           19      10  0.14            0     0.00\n",
       "\n",
       "[4571 rows x 5 columns]"
      ]
     },
     "execution_count": 404,
     "metadata": {},
     "output_type": "execute_result"
    }
   ],
   "source": [
    "result = df.select_dtypes(exclude=\"object\")\n",
    "result"
   ]
  },
  {
   "cell_type": "code",
   "execution_count": 405,
   "metadata": {},
   "outputs": [
    {
     "data": {
      "image/png": "[encoded data removed]",
      "text/plain": [
       "<Figure size 720x432 with 2 Axes>"
      ]
     },
     "metadata": {
      "needs_background": "light"
     },
     "output_type": "display_data"
    }
   ],
   "source": [
    "plot_data(result,'revenue')"
   ]
  },
  {
   "cell_type": "code",
   "execution_count": 406,
   "metadata": {},
   "outputs": [
    {
     "data": {
      "image/png": "[encoded data removed]",
      "text/plain": [
       "<Figure size 720x432 with 2 Axes>"
      ]
     },
     "metadata": {
      "needs_background": "light"
     },
     "output_type": "display_data"
    }
   ],
   "source": [
    "plot_data(result,'impressions')"
   ]
  },
  {
   "cell_type": "code",
   "execution_count": 407,
   "metadata": {},
   "outputs": [
    {
     "data": {
      "image/png": "[encoded data removed]",
      "text/plain": [
       "<Figure size 720x432 with 2 Axes>"
      ]
     },
     "metadata": {
      "needs_background": "light"
     },
     "output_type": "display_data"
    }
   ],
   "source": [
    "plot_data(result,'clicks')"
   ]
  },
  {
   "cell_type": "code",
   "execution_count": 408,
   "metadata": {},
   "outputs": [
    {
     "data": {
      "image/png": "[encoded data removed]",
      "text/plain": [
       "<Figure size 720x432 with 2 Axes>"
      ]
     },
     "metadata": {
      "needs_background": "light"
     },
     "output_type": "display_data"
    }
   ],
   "source": [
    "plot_data(result,'conversions')"
   ]
  },
  {
   "cell_type": "code",
   "execution_count": 409,
   "metadata": {},
   "outputs": [
    {
     "data": {
      "image/png": "[encoded data removed]",
      "text/plain": [
       "<Figure size 720x432 with 2 Axes>"
      ]
     },
     "metadata": {
      "needs_background": "light"
     },
     "output_type": "display_data"
    }
   ],
   "source": [
    "plot_data(result,'cost')"
   ]
  },
  {
   "cell_type": "code",
   "execution_count": 410,
   "metadata": {},
   "outputs": [],
   "source": [
    "# result['revenue_log'] = np.log1p(result['revenue'])\n",
    "# plot_data(result, 'revenue_log')"
   ]
  },
  {
   "cell_type": "code",
   "execution_count": 411,
   "metadata": {},
   "outputs": [
    {
     "data": {
      "text/html": [
       "<div>\n",
       "<style scoped>\n",
       "    .dataframe tbody tr th:only-of-type {\n",
       "        vertical-align: middle;\n",
       "    }\n",
       "\n",
       "    .dataframe tbody tr th {\n",
       "        vertical-align: top;\n",
       "    }\n",
       "\n",
       "    .dataframe thead th {\n",
       "        text-align: right;\n",
       "    }\n",
       "</style>\n",
       "<table border=\"1\" class=\"dataframe\">\n",
       "  <thead>\n",
       "    <tr style=\"text-align: right;\">\n",
       "      <th></th>\n",
       "      <th>impressions</th>\n",
       "      <th>clicks</th>\n",
       "      <th>cost</th>\n",
       "      <th>conversions</th>\n",
       "      <th>revenue</th>\n",
       "    </tr>\n",
       "  </thead>\n",
       "  <tbody>\n",
       "    <tr>\n",
       "      <th>0</th>\n",
       "      <td>24</td>\n",
       "      <td>6</td>\n",
       "      <td>0.08</td>\n",
       "      <td>0</td>\n",
       "      <td>0.00</td>\n",
       "    </tr>\n",
       "    <tr>\n",
       "      <th>1</th>\n",
       "      <td>1</td>\n",
       "      <td>0</td>\n",
       "      <td>0.00</td>\n",
       "      <td>0</td>\n",
       "      <td>0.00</td>\n",
       "    </tr>\n",
       "    <tr>\n",
       "      <th>2</th>\n",
       "      <td>13</td>\n",
       "      <td>4</td>\n",
       "      <td>0.04</td>\n",
       "      <td>0</td>\n",
       "      <td>0.00</td>\n",
       "    </tr>\n",
       "    <tr>\n",
       "      <th>3</th>\n",
       "      <td>5</td>\n",
       "      <td>4</td>\n",
       "      <td>0.08</td>\n",
       "      <td>0</td>\n",
       "      <td>0.00</td>\n",
       "    </tr>\n",
       "    <tr>\n",
       "      <th>4</th>\n",
       "      <td>247</td>\n",
       "      <td>126</td>\n",
       "      <td>1.29</td>\n",
       "      <td>4</td>\n",
       "      <td>925.71</td>\n",
       "    </tr>\n",
       "    <tr>\n",
       "      <th>...</th>\n",
       "      <td>...</td>\n",
       "      <td>...</td>\n",
       "      <td>...</td>\n",
       "      <td>...</td>\n",
       "      <td>...</td>\n",
       "    </tr>\n",
       "    <tr>\n",
       "      <th>4566</th>\n",
       "      <td>19</td>\n",
       "      <td>6</td>\n",
       "      <td>0.07</td>\n",
       "      <td>0</td>\n",
       "      <td>0.00</td>\n",
       "    </tr>\n",
       "    <tr>\n",
       "      <th>4567</th>\n",
       "      <td>1</td>\n",
       "      <td>0</td>\n",
       "      <td>0.00</td>\n",
       "      <td>0</td>\n",
       "      <td>0.00</td>\n",
       "    </tr>\n",
       "    <tr>\n",
       "      <th>4568</th>\n",
       "      <td>16</td>\n",
       "      <td>8</td>\n",
       "      <td>0.12</td>\n",
       "      <td>1</td>\n",
       "      <td>93.20</td>\n",
       "    </tr>\n",
       "    <tr>\n",
       "      <th>4569</th>\n",
       "      <td>37</td>\n",
       "      <td>13</td>\n",
       "      <td>0.23</td>\n",
       "      <td>0</td>\n",
       "      <td>0.00</td>\n",
       "    </tr>\n",
       "    <tr>\n",
       "      <th>4570</th>\n",
       "      <td>19</td>\n",
       "      <td>10</td>\n",
       "      <td>0.14</td>\n",
       "      <td>0</td>\n",
       "      <td>0.00</td>\n",
       "    </tr>\n",
       "  </tbody>\n",
       "</table>\n",
       "<p>4571 rows × 5 columns</p>\n",
       "</div>"
      ],
      "text/plain": [
       "      impressions  clicks  cost  conversions  revenue\n",
       "0              24       6  0.08            0     0.00\n",
       "1               1       0  0.00            0     0.00\n",
       "2              13       4  0.04            0     0.00\n",
       "3               5       4  0.08            0     0.00\n",
       "4             247     126  1.29            4   925.71\n",
       "...           ...     ...   ...          ...      ...\n",
       "4566           19       6  0.07            0     0.00\n",
       "4567            1       0  0.00            0     0.00\n",
       "4568           16       8  0.12            1    93.20\n",
       "4569           37      13  0.23            0     0.00\n",
       "4570           19      10  0.14            0     0.00\n",
       "\n",
       "[4571 rows x 5 columns]"
      ]
     },
     "execution_count": 411,
     "metadata": {},
     "output_type": "execute_result"
    }
   ],
   "source": [
    "result"
   ]
  },
  {
   "cell_type": "code",
   "execution_count": 412,
   "metadata": {},
   "outputs": [
    {
     "name": "stderr",
     "output_type": "stream",
     "text": [
      "<ipython-input-412-eeeb14ef7933>:1: SettingWithCopyWarning: \n",
      "A value is trying to be set on a copy of a slice from a DataFrame.\n",
      "Try using .loc[row_indexer,col_indexer] = value instead\n",
      "\n",
      "See the caveats in the documentation: https://pandas.pydata.org/pandas-docs/stable/user_guide/indexing.html#returning-a-view-versus-a-copy\n",
      "  result['revenue_sqrt_log'] = np.log1p(df.revenue)\n"
     ]
    },
    {
     "data": {
      "image/png": "[encoded data removed]",
      "text/plain": [
       "<Figure size 720x432 with 2 Axes>"
      ]
     },
     "metadata": {
      "needs_background": "light"
     },
     "output_type": "display_data"
    }
   ],
   "source": [
    "result['revenue_sqrt_log'] = np.log1p(df.revenue)\n",
    "plot_data(result, 'revenue_sqrt_log')"
   ]
  },
  {
   "cell_type": "code",
   "execution_count": 413,
   "metadata": {},
   "outputs": [],
   "source": [
    "# result['revenue_exp'] = df.revenue**(1/1.2)\n",
    "# plot_data(result, 'revenue_exp')"
   ]
  },
  {
   "cell_type": "code",
   "execution_count": 414,
   "metadata": {},
   "outputs": [],
   "source": [
    "# result['revenue_box'], pp = stat.boxcox(result['revenue']+1) "
   ]
  },
  {
   "cell_type": "code",
   "execution_count": 415,
   "metadata": {},
   "outputs": [],
   "source": [
    "# plot_data(result, 'revenue_box')"
   ]
  },
  {
   "cell_type": "code",
   "execution_count": 416,
   "metadata": {},
   "outputs": [
    {
     "name": "stderr",
     "output_type": "stream",
     "text": [
      "<ipython-input-416-f3ef1b5456c7>:1: SettingWithCopyWarning: \n",
      "A value is trying to be set on a copy of a slice from a DataFrame.\n",
      "Try using .loc[row_indexer,col_indexer] = value instead\n",
      "\n",
      "See the caveats in the documentation: https://pandas.pydata.org/pandas-docs/stable/user_guide/indexing.html#returning-a-view-versus-a-copy\n",
      "  result['impressions_log'] = np.log1p(result['impressions'])\n"
     ]
    },
    {
     "data": {
      "image/png": "[encoded data removed]",
      "text/plain": [
       "<Figure size 720x432 with 2 Axes>"
      ]
     },
     "metadata": {
      "needs_background": "light"
     },
     "output_type": "display_data"
    }
   ],
   "source": [
    "result['impressions_log'] = np.log1p(result['impressions'])\n",
    "plot_data(result, 'impressions_log')    "
   ]
  },
  {
   "cell_type": "code",
   "execution_count": 417,
   "metadata": {},
   "outputs": [],
   "source": [
    "# result['impressions_sqrt'] = df.impressions**(1/1.2)\n",
    "# plot_data(result, 'impressions_sqrt') "
   ]
  },
  {
   "cell_type": "code",
   "execution_count": 418,
   "metadata": {},
   "outputs": [],
   "source": [
    "# result['impressions_box'], pp = stat.boxcox(result['impressions']+1) "
   ]
  },
  {
   "cell_type": "code",
   "execution_count": 419,
   "metadata": {},
   "outputs": [],
   "source": [
    "# plot_data(result, 'impressions_box')"
   ]
  },
  {
   "cell_type": "code",
   "execution_count": 420,
   "metadata": {},
   "outputs": [
    {
     "data": {
      "image/png": "[encoded data removed]",
      "text/plain": [
       "<Figure size 720x432 with 2 Axes>"
      ]
     },
     "metadata": {
      "needs_background": "light"
     },
     "output_type": "display_data"
    }
   ],
   "source": [
    "result['clicks_log'] = np.log1p(result['clicks'])\n",
    "plot_data(result, 'clicks_log')"
   ]
  },
  {
   "cell_type": "code",
   "execution_count": 421,
   "metadata": {},
   "outputs": [],
   "source": [
    "# result['cost_log'] = np.log1p(result['cost'])\n",
    "# plot_data(result, 'cost_log')"
   ]
  },
  {
   "cell_type": "code",
   "execution_count": 422,
   "metadata": {},
   "outputs": [
    {
     "data": {
      "image/png": "[encoded data removed]",
      "text/plain": [
       "<Figure size 720x432 with 2 Axes>"
      ]
     },
     "metadata": {
      "needs_background": "light"
     },
     "output_type": "display_data"
    }
   ],
   "source": [
    "result['cost_sqrt'] = np.log1p(result.cost**(1/2))**(1/2)\n",
    "plot_data(result, 'cost_sqrt')"
   ]
  },
  {
   "cell_type": "code",
   "execution_count": 423,
   "metadata": {},
   "outputs": [],
   "source": [
    "# result['cost_box'], pp = stat.boxcox(result['cost']+1) \n",
    "# plot_data(result, 'cost_box')"
   ]
  },
  {
   "cell_type": "code",
   "execution_count": 424,
   "metadata": {},
   "outputs": [
    {
     "data": {
      "image/png": "[encoded data removed]",
      "text/plain": [
       "<Figure size 720x432 with 2 Axes>"
      ]
     },
     "metadata": {
      "needs_background": "light"
     },
     "output_type": "display_data"
    }
   ],
   "source": [
    "result['conversions_log'] =np.log1p(result['conversions'])\n",
    "plot_data(result, 'conversions_log')"
   ]
  },
  {
   "cell_type": "code",
   "execution_count": 425,
   "metadata": {},
   "outputs": [
    {
     "data": {
      "image/png": "[encoded data removed]",
      "text/plain": [
       "<Figure size 720x432 with 2 Axes>"
      ]
     },
     "metadata": {
      "needs_background": "light"
     },
     "output_type": "display_data"
    }
   ],
   "source": [
    "result['conversions_log'] = np.log1p(result.conversions**(1/2))\n",
    "plot_data(result, 'conversions_log')"
   ]
  },
  {
   "cell_type": "code",
   "execution_count": 426,
   "metadata": {},
   "outputs": [],
   "source": [
    "# result['conversions_box'], pp = stat.boxcox(result['conversions']+2) \n",
    "# plot_data(result, 'conversions_box')"
   ]
  },
  {
   "cell_type": "code",
   "execution_count": 427,
   "metadata": {},
   "outputs": [],
   "source": [
    "# df_encoded"
   ]
  },
  {
   "cell_type": "code",
   "execution_count": 428,
   "metadata": {},
   "outputs": [],
   "source": [
    "df_encoded['revenue'] = np.log1p(df_encoded.revenue)"
   ]
  },
  {
   "cell_type": "code",
   "execution_count": 429,
   "metadata": {},
   "outputs": [],
   "source": [
    "df_encoded['cost'] = np.log1p(df_encoded.cost**(1/2))**(1/2)"
   ]
  },
  {
   "cell_type": "code",
   "execution_count": 430,
   "metadata": {},
   "outputs": [],
   "source": [
    "df_encoded['clicks'] = np.log1p(df_encoded['clicks'])\n"
   ]
  },
  {
   "cell_type": "code",
   "execution_count": 431,
   "metadata": {},
   "outputs": [],
   "source": [
    "df_encoded['impressions'] = np.log1p(df_encoded['impressions'])"
   ]
  },
  {
   "cell_type": "code",
   "execution_count": 432,
   "metadata": {},
   "outputs": [],
   "source": [
    "df_encoded['conversions'] =np.log1p(df_encoded['conversions'])"
   ]
  },
  {
   "cell_type": "code",
   "execution_count": null,
   "metadata": {},
   "outputs": [],
   "source": []
  },
  {
   "cell_type": "code",
   "execution_count": 433,
   "metadata": {},
   "outputs": [
    {
     "data": {
      "text/plain": [
       "(4571, 80)"
      ]
     },
     "execution_count": 433,
     "metadata": {},
     "output_type": "execute_result"
    }
   ],
   "source": [
    "df_encoded.shape"
   ]
  },
  {
   "cell_type": "code",
   "execution_count": 434,
   "metadata": {},
   "outputs": [],
   "source": [
    "X = df_encoded.drop(['revenue'], axis = 1)\n",
    "y = df_encoded['revenue']"
   ]
  },
  {
   "cell_type": "code",
   "execution_count": 435,
   "metadata": {},
   "outputs": [],
   "source": [
    "X_train, X_test, y_train, y_test = train_test_split(X,y,test_size=0.25,random_state=2021)"
   ]
  },
  {
   "cell_type": "code",
   "execution_count": 436,
   "metadata": {},
   "outputs": [
    {
     "name": "stdout",
     "output_type": "stream",
     "text": [
      "X_train: (3428, 79)\n",
      "X_test: (1143, 79)\n",
      "y_train: (3428,)\n",
      "y_test: (1143,)\n"
     ]
    }
   ],
   "source": [
    "print(\"X_train:\", X_train.shape) # X_train\n",
    "print(\"X_test:\",X_test.shape) # X_test\n",
    "print(\"y_train:\",y_train.shape) # y_train\n",
    "print(\"y_test:\",y_test.shape) # y_test"
   ]
  }
 ],
 "metadata": {
  "kernelspec": {
   "display_name": "Python 3",
   "language": "python",
   "name": "python3"
  },
  "language_info": {
   "codemirror_mode": {
    "name": "ipython",
    "version": 3
   },
   "file_extension": ".py",
   "mimetype": "text/x-python",
   "name": "python",
   "nbconvert_exporter": "python",
   "pygments_lexer": "ipython3",
   "version": "3.8.5"
  }
 },
 "nbformat": 4,
 "nbformat_minor": 4
}
